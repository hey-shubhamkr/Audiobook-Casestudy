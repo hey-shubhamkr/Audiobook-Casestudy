{
 "cells": [
  {
   "cell_type": "code",
   "execution_count": 1,
   "metadata": {},
   "outputs": [],
   "source": [
    "import numpy as np \n",
    "import tensorflow as tf "
   ]
  },
  {
   "cell_type": "code",
   "execution_count": 2,
   "metadata": {},
   "outputs": [],
   "source": [
    "load1 = np.load(\"Audio_data_train.npz\")\n",
    "train_inputs = load1[\"input\"].astype(np.float)\n",
    "train_targets = load1[\"output\"].astype(np.int)\n",
    "\n",
    "load2 = np.load(\"Audio_data_validation.npz\")\n",
    "validation_inputs = load2[\"input\"].astype(np.float)\n",
    "validation_targets = load2[\"output\"].astype(np.int)\n",
    "\n",
    "load3 = np.load(\"Audio_data_test.npz\")\n",
    "test_inputs = load3[\"input\"].astype(np.float)\n",
    "test_targets = load3[\"output\"].astype(np.int)"
   ]
  },
  {
   "cell_type": "code",
   "execution_count": 3,
   "metadata": {},
   "outputs": [
    {
     "name": "stdout",
     "output_type": "stream",
     "text": [
      "Epoch 1/100\n",
      "36/36 - 0s - loss: 0.5579 - accuracy: 0.7586 - val_loss: 0.4216 - val_accuracy: 0.8904\n",
      "Epoch 2/100\n",
      "36/36 - 0s - loss: 0.3765 - accuracy: 0.8726 - val_loss: 0.3060 - val_accuracy: 0.8993\n",
      "Epoch 3/100\n",
      "36/36 - 0s - loss: 0.3230 - accuracy: 0.8829 - val_loss: 0.2803 - val_accuracy: 0.9083\n",
      "Epoch 4/100\n",
      "36/36 - 0s - loss: 0.3024 - accuracy: 0.8846 - val_loss: 0.2643 - val_accuracy: 0.9150\n",
      "Epoch 5/100\n",
      "36/36 - 0s - loss: 0.2895 - accuracy: 0.8924 - val_loss: 0.2586 - val_accuracy: 0.9172\n",
      "Epoch 6/100\n",
      "36/36 - 0s - loss: 0.2791 - accuracy: 0.8930 - val_loss: 0.2448 - val_accuracy: 0.9105\n",
      "Epoch 7/100\n",
      "36/36 - 0s - loss: 0.2724 - accuracy: 0.8952 - val_loss: 0.2401 - val_accuracy: 0.9217\n",
      "Epoch 8/100\n",
      "36/36 - 0s - loss: 0.2678 - accuracy: 0.8966 - val_loss: 0.2411 - val_accuracy: 0.9217\n",
      "Epoch 9/100\n",
      "36/36 - 0s - loss: 0.2625 - accuracy: 0.8986 - val_loss: 0.2324 - val_accuracy: 0.9195\n",
      "Epoch 10/100\n",
      "36/36 - 0s - loss: 0.2588 - accuracy: 0.8980 - val_loss: 0.2329 - val_accuracy: 0.9239\n",
      "Epoch 11/100\n",
      "36/36 - 0s - loss: 0.2554 - accuracy: 0.9030 - val_loss: 0.2316 - val_accuracy: 0.9284\n",
      "Epoch 12/100\n",
      "36/36 - 0s - loss: 0.2525 - accuracy: 0.9005 - val_loss: 0.2319 - val_accuracy: 0.9217\n",
      "Epoch 13/100\n",
      "36/36 - 0s - loss: 0.2497 - accuracy: 0.9036 - val_loss: 0.2252 - val_accuracy: 0.9172\n",
      "Epoch 14/100\n",
      "36/36 - 0s - loss: 0.2467 - accuracy: 0.9050 - val_loss: 0.2286 - val_accuracy: 0.9262\n",
      "Epoch 15/100\n",
      "36/36 - 0s - loss: 0.2452 - accuracy: 0.9044 - val_loss: 0.2278 - val_accuracy: 0.9262\n"
     ]
    },
    {
     "data": {
      "text/plain": [
       "<tensorflow.python.keras.callbacks.History at 0x7f820695a350>"
      ]
     },
     "execution_count": 3,
     "metadata": {},
     "output_type": "execute_result"
    }
   ],
   "source": [
    "input_size = 10\n",
    "output_size = 2\n",
    "hidden_layer_size = 50\n",
    "\n",
    "model = tf.keras.Sequential([\n",
    "                            tf.keras.layers.Dense(hidden_layer_size, activation=\"relu\"),\n",
    "                            tf.keras.layers.Dense(hidden_layer_size, activation=\"relu\"),\n",
    "                            tf.keras.layers.Dense(output_size, activation=\"softmax\")\n",
    "                            ])\n",
    "model.compile(optimizer=\"adam\" , loss=\"sparse_categorical_crossentropy\",metrics=[\"accuracy\"])\n",
    "\n",
    "batch_size = 100\n",
    "\n",
    "num_epochs = 100\n",
    "\n",
    "early_stopping = tf.keras.callbacks.EarlyStopping(patience = 2)\n",
    "\n",
    "model.fit(train_inputs,\n",
    "         train_targets,\n",
    "         batch_size = batch_size,\n",
    "         epochs = num_epochs,\n",
    "        callbacks = [early_stopping],\n",
    "         validation_data = (validation_inputs, validation_targets),\n",
    "         verbose=2)"
   ]
  },
  {
   "cell_type": "code",
   "execution_count": 4,
   "metadata": {},
   "outputs": [
    {
     "name": "stdout",
     "output_type": "stream",
     "text": [
      "14/14 [==============================] - 0s 906us/step - loss: 0.2575 - accuracy: 0.9062\n"
     ]
    }
   ],
   "source": [
    "test_loss, test_accuracy = model.evaluate(test_inputs, test_targets)"
   ]
  },
  {
   "cell_type": "code",
   "execution_count": 5,
   "metadata": {},
   "outputs": [
    {
     "name": "stdout",
     "output_type": "stream",
     "text": [
      "Loss 0.2575049102306366 and Accuracy 90.625\n"
     ]
    }
   ],
   "source": [
    "print(f\"Loss {test_loss} and Accuracy {test_accuracy*100}\")"
   ]
  },
  {
   "cell_type": "code",
   "execution_count": null,
   "metadata": {},
   "outputs": [],
   "source": []
  }
 ],
 "metadata": {
  "kernelspec": {
   "display_name": "py3-TF2.0",
   "language": "python",
   "name": "py3-tf2.0"
  },
  "language_info": {
   "codemirror_mode": {
    "name": "ipython",
    "version": 3
   },
   "file_extension": ".py",
   "mimetype": "text/x-python",
   "name": "python",
   "nbconvert_exporter": "python",
   "pygments_lexer": "ipython3",
   "version": "3.7.9"
  }
 },
 "nbformat": 4,
 "nbformat_minor": 4
}
